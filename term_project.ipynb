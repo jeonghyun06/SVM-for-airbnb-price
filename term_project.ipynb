{
  "nbformat": 4,
  "nbformat_minor": 0,
  "metadata": {
    "colab": {
      "provenance": [],
      "authorship_tag": "ABX9TyOFJbR6gZxh1W9APB6NKyQm",
      "include_colab_link": true
    },
    "kernelspec": {
      "name": "python3",
      "display_name": "Python 3"
    },
    "language_info": {
      "name": "python"
    }
  },
  "cells": [
    {
      "cell_type": "markdown",
      "metadata": {
        "id": "view-in-github",
        "colab_type": "text"
      },
      "source": [
        "<a href=\"https://colab.research.google.com/github/jeonghyun06/SVM-for-airbnb-price/blob/main/term_project.ipynb\" target=\"_parent\"><img src=\"https://colab.research.google.com/assets/colab-badge.svg\" alt=\"Open In Colab\"/></a>"
      ]
    },
    {
      "cell_type": "code",
      "execution_count": null,
      "metadata": {
        "id": "cOj-DCxTTMip"
      },
      "outputs": [],
      "source": [
        "import multiprocessing\n",
        "import pandas as pd\n",
        "import numpy as np\n",
        "from sklearn.impute import SimpleImputer\n",
        "from sklearn import preprocessing\n",
        "\n",
        "data = pd.read_csv('Airbnb_Data.csv')\n",
        "\n",
        "# 불필요한 column 제거\n",
        "data = data.drop(columns=['id', 'amenities', 'city', 'description', 'first_review', 'host_has_profile_pic', 'host_since', 'last_review', 'latitude', 'longitude', 'name', 'neighbourhood', 'thumbnail_url', 'zipcode'])\n",
        "\n",
        "# 결측치 전처리\n",
        "freq = SimpleImputer(strategy='most_frequent')\n",
        "data['bathrooms'] = freq.fit_transform(data[['bathrooms']])\n",
        "data['bedrooms'] = freq.fit_transform(data[['bedrooms']])\n",
        "data['beds'] = freq.fit_transform(data[['beds']])\n",
        "\n",
        "mean = SimpleImputer(strategy='mean')\n",
        "data['review_scores_rating'] = mean.fit_transform(data[['review_scores_rating']])\n",
        "data['host_response_rate'] = pd.to_numeric(data['host_response_rate'].str.replace('%',''))\n",
        "data['host_response_rate'] = mean.fit_transform(data[['host_response_rate']])\n",
        "\n",
        "# string 데이터 전처리\n",
        "label = preprocessing.LabelEncoder()\n",
        "data['property_type'] = label.fit_transform(data['property_type'])\n",
        "data['room_type'] = label.fit_transform(data['room_type'])\n",
        "data['bed_type'] = label.fit_transform(data['bed_type'])\n",
        "data['cancellation_policy'] = label.fit_transform(data['cancellation_policy'])\n",
        "\n",
        "# # min-max 정규화\n",
        "# normalize = preprocessing.MinMaxScaler()\n",
        "# dataNormal = normalize.fit_transform(data)\n",
        "#\n",
        "# # 표준화\n",
        "# standard = preprocessing.StandardScaler()\n",
        "# dataStand = standard.fit_transform(data)\n",
        "\n",
        "data.to_csv('Airbnb_Data_after.csv')"
      ]
    }
  ]
}